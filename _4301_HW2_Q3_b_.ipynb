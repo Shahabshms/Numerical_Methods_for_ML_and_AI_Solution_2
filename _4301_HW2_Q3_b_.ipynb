{
  "nbformat": 4,
  "nbformat_minor": 0,
  "metadata": {
    "colab": {
      "name": "-- 4301 -- HW2 -- Q3.b-- .ipynb",
      "provenance": [],
      "collapsed_sections": [],
      "authorship_tag": "ABX9TyODH8EvUIocU/H441cnv+Qp",
      "include_colab_link": true
    },
    "kernelspec": {
      "name": "python3",
      "display_name": "Python 3"
    }
  },
  "cells": [
    {
      "cell_type": "markdown",
      "metadata": {
        "id": "view-in-github",
        "colab_type": "text"
      },
      "source": [
        "<a href=\"https://colab.research.google.com/github/Shahabshms/Numerical_Methods_for_ML_and_AI_Solution_2/blob/main/_4301_HW2_Q3_b_.ipynb\" target=\"_parent\"><img src=\"https://colab.research.google.com/assets/colab-badge.svg\" alt=\"Open In Colab\"/></a>"
      ]
    },
    {
      "cell_type": "markdown",
      "metadata": {
        "id": "y26TIKxczNYA"
      },
      "source": [
        "# Problem 3: Convex Envelopes"
      ]
    },
    {
      "cell_type": "markdown",
      "metadata": {
        "id": "idspY1dKIo89"
      },
      "source": [
        "To fix the unboundedness, we can add an additional constraint that $\\Vert w\\Vert_2^2 \\leq \\gamma^2$ for some given $\\gamma \\geq 0$. In Python, implement projected gradient descent to solve the optimization problem under this additional constraint. Your Python function should take as input the $x$’s, the $y$’s, $\\gamma$, the query point $x$, and the number of iterations of projected gradient\n",
        "ascent to perform and return the best function value found during the iterative procedure stating from $w = 0$ and $y = \\text{min}_m y^{(m)}$. \n",
        "\n",
        "Hint: you can do the projection analytically if\n",
        "you reformulate the optimization problem to eliminate the linear constraints."
      ]
    },
    {
      "cell_type": "markdown",
      "metadata": {
        "id": "Q_JtpO9UOhYq"
      },
      "source": [
        "**How to do the projection analytically:**\n",
        "\n",
        "The question is asking to add the constraint of $\\Vert w\\Vert^2_2\\leq \\gamma^2$ to the optimization problem. This constraint is equivalent to projecting vector $w$ into an n-dimensional sphere of the radius $\\gamma$ at the origin. So, the projection is as easy as the following:\n",
        "\\begin{align}\n",
        "w^{\\text{prj}} = \\gamma\\frac{w}{\\Vert w\\Vert_2}\n",
        "\\end{align}\n",
        "\n",
        "I recommend you try different $\\gamma$ to see how it impacts the final result. "
      ]
    },
    {
      "cell_type": "code",
      "metadata": {
        "id": "a94b-aAnzI7p"
      },
      "source": [
        "def projection(weight,gamma):\n",
        "  len_of_w = np.linalg.norm(weight,2)\n",
        "  if len_of_w > gamma:\n",
        "    weight = gamma * (weight / len_of_w)\n",
        "  return weight"
      ],
      "execution_count": null,
      "outputs": []
    },
    {
      "cell_type": "markdown",
      "metadata": {
        "id": "3vAX4UohR93B"
      },
      "source": [
        "There is nothing special about the projected gradient descent of this problem."
      ]
    },
    {
      "cell_type": "code",
      "metadata": {
        "id": "jOOa4XeKM4sw"
      },
      "source": [
        "def gradient_descent(initial_weight,max_iterations,gamma,query):\n",
        "  weight = initial_weight\n",
        "  \n",
        "  for iteration in range(1,max_iterations+1):\n",
        "    step_size = 2 / (iteration+2)\n",
        "    gradient = get_gradient(weight,query)\n",
        "    weight = weight - step_size * gradient\n",
        "    weight = projection(weight,gamma)\n",
        "\n",
        "  return weight\n",
        "\n"
      ],
      "execution_count": null,
      "outputs": []
    },
    {
      "cell_type": "markdown",
      "metadata": {
        "id": "5cXKEX_9SK1m"
      },
      "source": [
        "**How to get the gradient:**\n",
        "The orinigal problem is\n",
        "\\begin{align}\n",
        "f_{\\text{env}} = \\sup_{w\\in\\mathbb{R}^n,y\\in\\mathbb{R}} y\n",
        "\\end{align}\n",
        "such that\n",
        "\\begin{align}\n",
        "y^{(m)} \\geq y + w^T(x^{(m)}-x) &\\text{ for all } m\\in\\{1,\\dots,M\\},\\\\\n",
        "\\Vert w\\Vert_2^2 &\\leq \\gamma^2.\n",
        "\\end{align}\n",
        "\n",
        "First we need to eliminate $y$. Since this is a constrained convex problem, we know that the answer lies on the boundry. So\n",
        "\\begin{align}\n",
        "y = \\min_{m} y^{(m)} - w^T(x^{(m)}-x).\n",
        "\\end{align}\n",
        "Now define\n",
        "\\begin{align}\n",
        "g(w) \\triangleq \\min_{m} y^{(m)} - w^T(x^{(m)}-x).\n",
        "\\end{align}\n",
        "Using $g(w)$ rewrite the main problem as\n",
        "\\begin{align}\n",
        "f_{\\text{env}} = \\sup_{w\\in\\mathbb{R}^n} g(w)\n",
        "\\end{align}\n",
        "such that\n",
        "\\begin{align}\n",
        "\\Vert w\\Vert_2^2 \\leq \\gamma^2.\n",
        "\\end{align}\n",
        "From now, there is no need have $y$ as a variable anymore. We just need to calculate $y$ at the very end. So the gradient of the objective function, with respect to its only variable $w$ is\n",
        "\\begin{align}\n",
        "\\nabla_w g(w) = -(x^{(m^*)}-x),\n",
        "\\end{align}\n",
        "where \n",
        "\\begin{align}\n",
        "m^* = \\text{argmin}_{m} y^{(m)} - w^T(x^{(m)}-x).\n",
        "\\end{align}"
      ]
    },
    {
      "cell_type": "code",
      "metadata": {
        "id": "tDGZEQluSOWY"
      },
      "source": [
        "def get_gradient(weight,query):\n",
        "# There might be more that one m_star. Which means that we need to get the subgradient.\n",
        "# This is an acceptable answer. But there might be other acceptable answers as well. \n",
        "  m_star = arg_min(weight,query)[0] \n",
        "  gradient = -(x[m_star] - query)\n",
        "\n",
        "  return gradient"
      ],
      "execution_count": null,
      "outputs": []
    },
    {
      "cell_type": "code",
      "metadata": {
        "id": "KUttMbs5b0G5"
      },
      "source": [
        "def arg_min(weight,query):\n",
        "\n",
        "  arr = [y[j] - np.matmul(query - x[j] , weight) for j in range(m)]\n",
        "  m_star = [j for j in range(len(arr)) if arr[j] == min(arr)]\n",
        "\n",
        "  return m_star\n"
      ],
      "execution_count": null,
      "outputs": []
    },
    {
      "cell_type": "code",
      "metadata": {
        "id": "xm-ZcGWOKILG",
        "colab": {
          "base_uri": "https://localhost:8080/",
          "height": 282
        },
        "outputId": "1c0dba55-3024-4a75-9f13-3a898d81ac21"
      },
      "source": [
        "import numpy as np\n",
        "import matplotlib.pyplot as plt\n",
        "\n",
        "\n",
        "gamma = 5\n",
        "\n",
        "max_iterations = 1000\n",
        "\n",
        "x = np.array([[-1],[-0.5],[0.5],[1],[2],[3],[-2]])\n",
        "y = np.array([[1],[2],[2],[1],[4],[9],[4]])\n",
        "\n",
        "m = x.shape[0] # number of data points\n",
        "n = x.shape[1] # dimension\n",
        "\n",
        "initial_weight = np.zeros(n)\n",
        "\n",
        "query = np.array([-2,-1,0,0.5,1,2,3,-3,-2.5,-1.5,0.2,2.9,4.1])\n",
        "f_env = np.zeros(query.shape[0])\n",
        "\n",
        "for i in range(query.shape[0]):\n",
        "  w_i = gradient_descent(initial_weight,max_iterations,gamma,query[i])\n",
        "  f_env[i] = min([y[j] - np.matmul(query[i] - x[j],w_i) for j in range(m)])\n",
        "\n",
        "given = sorted( [[x[i],y[i]] for i in range(m)] , key = lambda  p:p[0])\n",
        "query = sorted( [[query[i],f_env[i]] for i in range(query.shape[0])], key = lambda  p:p[0])\n",
        "\n",
        "\n",
        "plt.plot([query[i][0] for i in range(len(query))],[query[i][1] for i in range(len(query))],'b')\n",
        "plt.plot([given[i][0] for i in range(len(given))],[given[i][1] for i in range(len(given))],'r')\n"
      ],
      "execution_count": null,
      "outputs": [
        {
          "output_type": "execute_result",
          "data": {
            "text/plain": [
              "[<matplotlib.lines.Line2D at 0x7f369b3bccf8>]"
            ]
          },
          "metadata": {
            "tags": []
          },
          "execution_count": 5
        },
        {
          "output_type": "display_data",
          "data": {
            "image/png": "[encoded data removed]",
            "text/plain": [
              "<Figure size 432x288 with 1 Axes>"
            ]
          },
          "metadata": {
            "tags": [],
            "needs_background": "light"
          }
        }
      ]
    }
  ]
}